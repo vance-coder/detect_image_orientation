{
 "cells": [
  {
   "cell_type": "markdown",
   "metadata": {},
   "source": [
    "#### 加载训练集与验证集，并使用keras中的数据增强功能"
   ]
  },
  {
   "cell_type": "code",
   "execution_count": 1,
   "metadata": {},
   "outputs": [
    {
     "name": "stderr",
     "output_type": "stream",
     "text": [
      "Using TensorFlow backend.\n"
     ]
    },
    {
     "name": "stdout",
     "output_type": "stream",
     "text": [
      "Found 10120 images belonging to 4 classes.\n",
      "Found 1200 images belonging to 4 classes.\n"
     ]
    }
   ],
   "source": [
    "from keras.preprocessing.image import ImageDataGenerator\n",
    "\n",
    "# train和test文件夹下都有四个文件夹，名字分别为0、90、180、270，各自里面存放着对应角度的图片\n",
    "train_dir = 'C:/work/images/receipts/train/'\n",
    "test_dir = 'C:/work/images/receipts/test/'\n",
    "\n",
    "# train_datagen =  ImageDataGenerator()\n",
    "# test_datagen = ImageDataGenerator()\n",
    "\n",
    "train_datagen =  ImageDataGenerator(\n",
    "    rotation_range=15,\n",
    "    width_shift_range=0.1,\n",
    "    height_shift_range=0.1,\n",
    "    shear_range=0.1,\n",
    "    zoom_range=0.1,\n",
    "    channel_shift_range=0.1,\n",
    "    brightness_range=(0.6, 1)\n",
    ")\n",
    "\n",
    "test_datagen = ImageDataGenerator(\n",
    "    rotation_range=15,\n",
    "    width_shift_range=0.1,\n",
    "    height_shift_range=0.1,\n",
    "    shear_range=0.1,\n",
    "    zoom_range=0.1,\n",
    "    channel_shift_range=0.1,\n",
    "    brightness_range=(0.6, 1)\n",
    ")\n",
    "\n",
    "train_generator = train_datagen.flow_from_directory(\n",
    "  train_dir,\n",
    "  target_size=(224, 224),\n",
    "  batch_size=32,\n",
    ")\n",
    "validation_generator = test_datagen.flow_from_directory(\n",
    "  test_dir,\n",
    "  target_size=(224, 224),\n",
    "  batch_size=32,\n",
    ")"
   ]
  },
  {
   "cell_type": "markdown",
   "metadata": {},
   "source": [
    "#### 定义模型，这里采用迁移学习方式，使用keras中的VGG19预训练模型"
   ]
  },
  {
   "cell_type": "code",
   "execution_count": null,
   "metadata": {},
   "outputs": [],
   "source": [
    "from keras.applications.vgg19 import VGG19\n",
    "from keras.preprocessing import image\n",
    "from keras.models import Model\n",
    "from keras.layers import Dense, Flatten, Dropout\n",
    "from keras import backend as K\n",
    "\n",
    "path = \"C:/Users/E101080/.keras/models/vgg19_weights_tf_dim_ordering_tf_kernels_notop.h5\"\n",
    "\n",
    "base_model = VGG19(weights=path, include_top=False, input_shape=(224, 224, 3))\n",
    "\n",
    "for layer in base_model.layers:\n",
    "    layer.trainable = False\n",
    "\n",
    "model = Flatten(name='flatten')(base_model.output)\n",
    "\n",
    "model = Dense(256, activation='relu', name='fc1')(model)\n",
    "model = Dense(512, activation='relu', name='fc2')(model)\n",
    "model = Dropout(0.5)(model)\n",
    "\n",
    "# 只定了四个方向0、90、180、270度\n",
    "model = Dense(4, activation='softmax')(model)\n",
    "\n",
    "model = Model(inputs=base_model.input, outputs=model, name='vgg19')\n",
    "\n",
    "# 打印模型结构，包括所需要的参数\n",
    "# model.summary()\n",
    "\n",
    "# 编译模型\n",
    "model.compile(optimizer='rmsprop', loss='categorical_crossentropy', metrics=['accuracy'])"
   ]
  },
  {
   "cell_type": "markdown",
   "metadata": {},
   "source": [
    "#### 开始训练"
   ]
  },
  {
   "cell_type": "code",
   "execution_count": 8,
   "metadata": {},
   "outputs": [
    {
     "name": "stdout",
     "output_type": "stream",
     "text": [
      "Epoch 1/6\n",
      "320/320 [==============================] - 1895s 6s/step - loss: 0.3925 - accuracy: 0.8885 - val_loss: 1.0238 - val_accuracy: 0.9058\n",
      "Epoch 2/6\n",
      "320/320 [==============================] - 1799s 6s/step - loss: 0.3660 - accuracy: 0.8948 - val_loss: 1.7547 - val_accuracy: 0.9217\n",
      "Epoch 3/6\n",
      "320/320 [==============================] - 1778s 6s/step - loss: 0.3168 - accuracy: 0.9115 - val_loss: 0.0837 - val_accuracy: 0.9358\n",
      "Epoch 4/6\n",
      "320/320 [==============================] - 1780s 6s/step - loss: 0.3002 - accuracy: 0.9150 - val_loss: 0.0053 - val_accuracy: 0.9325\n",
      "Epoch 5/6\n",
      "320/320 [==============================] - 1779s 6s/step - loss: 0.2665 - accuracy: 0.9207 - val_loss: 0.2951 - val_accuracy: 0.9142\n",
      "Epoch 6/6\n",
      "320/320 [==============================] - 1773s 6s/step - loss: 0.2665 - accuracy: 0.9229 - val_loss: 0.1965 - val_accuracy: 0.9275\n"
     ]
    },
    {
     "data": {
      "text/plain": [
       "<keras.callbacks.callbacks.History at 0x136dc39f6d8>"
      ]
     },
     "execution_count": 8,
     "metadata": {},
     "output_type": "execute_result"
    }
   ],
   "source": [
    "from PIL import ImageFile\n",
    "ImageFile.LOAD_TRUNCATED_IMAGES = True\n",
    "\n",
    "model.fit_generator(\n",
    "  train_generator,\n",
    "  steps_per_epoch=320,\n",
    "  epochs=6,\n",
    "  validation_data=validation_generator)"
   ]
  },
  {
   "cell_type": "code",
   "execution_count": 9,
   "metadata": {},
   "outputs": [],
   "source": [
    "# 保存模型\n",
    "model.save('vgg19-256-512.h5')"
   ]
  },
  {
   "cell_type": "markdown",
   "metadata": {},
   "source": [
    "#### 预测"
   ]
  },
  {
   "cell_type": "code",
   "execution_count": null,
   "metadata": {},
   "outputs": [],
   "source": [
    "# 查看label\n",
    "train_generator.class_indices"
   ]
  },
  {
   "cell_type": "code",
   "execution_count": null,
   "metadata": {},
   "outputs": [],
   "source": [
    "import numpy as np\n",
    "\n",
    "test_image_path = r'C:\\Users\\E101080\\Downloads\\pic\\consult + med printed (3).TIF'\n",
    "\n",
    "valid_image = image.load_img(test_image_path, target_size=(150, 150))\n",
    "\n",
    "image_arr = image.img_to_array(valid_image)\n",
    "\n",
    "np.argmax(model.predict(np.expand_dims(image_arr, 0)),axis=1)"
   ]
  },
  {
   "cell_type": "markdown",
   "metadata": {},
   "source": [
    "#### 加载保存后的模型并进行预测"
   ]
  },
  {
   "cell_type": "code",
   "execution_count": null,
   "metadata": {},
   "outputs": [],
   "source": [
    "import numpy as np\n",
    "from keras.preprocessing import image\n",
    "from keras.models import load_model\n",
    "test_image_path = r'C:\\Users\\E101080\\Downloads\\pic\\consult + med printed (3).TIF'\n",
    "\n",
    "my_model = load_model('vgg19-256-512.h5')\n",
    "\n",
    "valid_image = image.load_img(test_image_path, target_size=(150, 150))\n",
    "image_arr = image.img_to_array(valid_image)\n",
    "\n",
    "np.argmax(my_model.predict(np.expand_dims(image_arr, 0)),axis=1)"
   ]
  },
  {
   "cell_type": "markdown",
   "metadata": {},
   "source": [
    "#### 重新加载模型进行微调"
   ]
  },
  {
   "cell_type": "code",
   "execution_count": 5,
   "metadata": {},
   "outputs": [
    {
     "name": "stdout",
     "output_type": "stream",
     "text": [
      "Epoch 1/2\n",
      "100/100 [==============================] - 707s 7s/step - loss: 0.1277 - accuracy: 0.9663 - val_loss: 0.1412 - val_accuracy: 0.9517\n",
      "Epoch 2/2\n",
      "100/100 [==============================] - 753s 8s/step - loss: 0.1412 - accuracy: 0.9622 - val_loss: 0.1374 - val_accuracy: 0.9425\n"
     ]
    },
    {
     "data": {
      "text/plain": [
       "<keras.callbacks.callbacks.History at 0x23de10b8c18>"
      ]
     },
     "execution_count": 5,
     "metadata": {},
     "output_type": "execute_result"
    }
   ],
   "source": [
    "from keras.models import load_model\n",
    "from PIL import ImageFile\n",
    "ImageFile.LOAD_TRUNCATED_IMAGES = True\n",
    "\n",
    "# my_model = load_model('vgg19-256-512-92.h5')\n",
    "\n",
    "my_model.fit_generator(\n",
    "  train_generator,\n",
    "  steps_per_epoch=100,\n",
    "  epochs=2,\n",
    "  validation_data=validation_generator)"
   ]
  },
  {
   "cell_type": "code",
   "execution_count": 6,
   "metadata": {},
   "outputs": [],
   "source": [
    "# save model\n",
    "my_model.save('vgg19-256-512-94.h5')"
   ]
  }
 ],
 "metadata": {
  "kernelspec": {
   "display_name": "Python 3",
   "language": "python",
   "name": "python3"
  },
  "language_info": {
   "codemirror_mode": {
    "name": "ipython",
    "version": 3
   },
   "file_extension": ".py",
   "mimetype": "text/x-python",
   "name": "python",
   "nbconvert_exporter": "python",
   "pygments_lexer": "ipython3",
   "version": "3.6.3"
  }
 },
 "nbformat": 4,
 "nbformat_minor": 4
}
